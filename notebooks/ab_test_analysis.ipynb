{
 "cells": [
  {
   "cell_type": "code",
   "execution_count": 1,
   "metadata": {
    "id": "n5TeYJF1V5cm"
   },
   "outputs": [],
   "source": [
    "import pandas as pd\n",
    "import numpy as np\n",
    "from scipy import stats\n",
    "import seaborn as sns"
   ]
  },
  {
   "cell_type": "markdown",
   "metadata": {},
   "source": [
    "# Notes before starting: \n",
    "### Variants in the Experiment\n",
    "Different wording\n",
    "Different colors\n",
    "\n",
    "\n",
    "### Business Value:\n",
    "Improving user engagement\n",
    "Increasing conversion rates\n",
    "Understanding user psychology and interaction with website elements\n",
    "Potentially increasing revenue by making the call-to-action more effective\n",
    "Gathering insights about user preferences and behavior\n",
    "\n",
    "\n",
    "### Main Metric for Success\n",
    "The primary metric would be Click-Through Rate (CTR), which is currently at 2%. We want to measure how the new variants compare to the original button in terms of user clicks relative to total website visits.\n",
    "\n",
    "### Additional Metrics to Track\n",
    "Conversion rate\n",
    "Time spent on subsequent pages after clicking\n",
    "Bounce rate\n",
    "User feedback/sentiment\n",
    "Scroll depth\n",
    "Interaction with other website elements\n",
    "\n",
    "### Statistical Significance Threshold\n",
    "95% significance level which is a standard practice in statistical hypothesis testing. \n",
    "Minimum Detectable Effect (MDE) = 20%\n",
    "\n",
    "### Experiment Platform\n",
    "Optimizely\n",
    "VWO (Visual Website Optimizer)\n",
    "Google Optimize\n",
    "A/B Tasty\n",
    "\n",
    "### Advantages of using external tools:\n",
    "Quick implementation\n",
    "No need for custom software development\n",
    "Built-in statistical analysis\n",
    "Easy tracking and reporting\n",
    "Minimal engineering resources required\n",
    "\n",
    "### Recommended Experimental Design Steps:\n",
    "\n",
    "Design the variants based on user feedback\n",
    "Set up A/B testing using an external platform\n",
    "Ensure equal traffic distribution\n",
    "Run the experiment for a statistically significant duration (likely 2-4 weeks)\n",
    "Collect and analyze data\n",
    "Draw conclusions based on the defined metrics and significance threshold\n",
    "\n",
    "### Additional Considerations:\n",
    "Ensure the sample size is large enough for statistical validity\n",
    "Control for external factors (e.g., marketing campaigns, seasonal variations)\n",
    "Prepare a follow-up plan based on experiment results"
   ]
  },
  {
   "cell_type": "markdown",
   "metadata": {
    "id": "qNXGWYrqV5cp"
   },
   "source": [
    "# Hypothesis testing: Chi-Square Test within the Eniac case study\n",
    "\n",
    "In this notebook we perform a chi-square test with the data from the Eniac case study, applying a post-hoc correction to perform pairwise tests and find the true winner."
   ]
  },
  {
   "cell_type": "markdown",
   "metadata": {
    "id": "A859rS2LV5cu"
   },
   "source": [
    "## 1.&nbsp;State the Null Hypothesis and the Alternative Hypothesis."
   ]
  },
  {
   "cell_type": "markdown",
   "metadata": {},
   "source": [
    "\n",
    "Null Hypothesis (H0): There is no statistically significant difference in CTR between the original button and the new variants.\n",
    "\n",
    "Alternative Hypothesis (H1): At least one of the new variants demonstrates a statistically significant improvement in CTR compared to the original button."
   ]
  },
  {
   "cell_type": "markdown",
   "metadata": {
    "id": "MBnbaWQMV5cv"
   },
   "source": [
    "## 2.&nbsp; Select an appropriate significance level alpha ($\\alpha$).\n",
    "\n",
    "It was decided that a relatively high alpha was acceptable in this case"
   ]
  },
  {
   "cell_type": "code",
   "execution_count": 27,
   "metadata": {},
   "outputs": [],
   "source": [
    "# %95 confidence level \n",
    "alpha = 0.05"
   ]
  },
  {
   "cell_type": "markdown",
   "metadata": {
    "id": "v2fz99DZV5cv"
   },
   "source": [
    "## 3.&nbsp; Collect data that is random and independent\n",
    "\n",
    "The important pieces of information (clicks on each element of interest & visits on each page) are scattered around. Let's collect them. Where are the .csv files? 🥸"
   ]
  },
  {
   "cell_type": "markdown",
   "metadata": {},
   "source": [
    "## Questions to answer:\n",
    "What was the click-through rate for each version?\\\n",
    "Which version was the winner?\\\n",
    "Do the results seem conclusive?"
   ]
  },
  {
   "cell_type": "code",
   "execution_count": 106,
   "metadata": {},
   "outputs": [],
   "source": [
    "#importing the data\n",
    "version_a = pd.read_csv(\"eniac_a.csv\")\n",
    "version_b = pd.read_csv(\"eniac_b.csv\")\n",
    "version_c = pd.read_csv(\"eniac_c.csv\")\n",
    "version_d = pd.read_csv(\"eniac_d.csv\")"
   ]
  },
  {
   "cell_type": "code",
   "execution_count": 17,
   "metadata": {
    "collapsed": true,
    "jupyter": {
     "outputs_hidden": true
    },
    "scrolled": true
   },
   "outputs": [
    {
     "data": {
      "text/plain": [
       "0    Homepage Version A - white SHOP NOW   •   http...\n",
       "1    created 2021-09-14   •   14 days 0 hours 34 mi...\n",
       "Name: Snapshot information, dtype: object"
      ]
     },
     "execution_count": 17,
     "metadata": {},
     "output_type": "execute_result"
    }
   ],
   "source": [
    "# have a look at the firat two rows of snapshot info column\n",
    "version_a[\"Snapshot information\"].iloc[:2]"
   ]
  },
  {
   "cell_type": "code",
   "execution_count": 26,
   "metadata": {},
   "outputs": [
    {
     "name": "stdout",
     "output_type": "stream",
     "text": [
      "Number of visits and clicks for version a is created 2021-09-14   •   14 days 0 hours 34 mins   •   25326 visits, 23174 clicks\n",
      "Number of visits and clicks for version b is created 2021-10-27   •   14 days 0 hours 34 mins   •   24747 visits, 22407 clicks\n",
      "Number of visits and clicks for version c is created 2021-10-27   •   14 days 0 hours 34 mins   •   24876 visits, 23031 clicks\n",
      "Number of visits and clicks for version d is created 2021-10-27   •   14 days 0 hours 34 mins   •   25233 visits, 22743 clicks\n"
     ]
    }
   ],
   "source": [
    "# extracting clicks and visits info from snapshot info column at row=1\n",
    "value_a = version_a.at[1, 'Snapshot information']\n",
    "value_b = version_b.at[1, 'Snapshot information']\n",
    "value_c = version_c.at[1, 'Snapshot information']\n",
    "value_d = version_d.at[1, 'Snapshot information']\n",
    "\n",
    "print(f\"Number of visits and clicks for version a is {value_a}\")\n",
    "print(f\"Number of visits and clicks for version b is {value_b}\")\n",
    "print(f\"Number of visits and clicks for version c is {value_c}\")\n",
    "print(f\"Number of visits and clicks for version d is {value_d}\")"
   ]
  },
  {
   "cell_type": "code",
   "execution_count": 107,
   "metadata": {},
   "outputs": [],
   "source": [
    "# total visits of each version\n",
    "total_visit = [25326, 24747, 24876, 25233]"
   ]
  },
  {
   "cell_type": "code",
   "execution_count": 86,
   "metadata": {
    "collapsed": true,
    "jupyter": {
     "outputs_hidden": true,
     "source_hidden": true
    }
   },
   "outputs": [
    {
     "data": {
      "text/plain": [
       "[17912, 17285, 17963, 17461]"
      ]
     },
     "execution_count": 86,
     "metadata": {},
     "output_type": "execute_result"
    }
   ],
   "source": [
    "#creating a list of total clicks \n",
    "# total_clicks = [(visible_a[\"No. clicks\"].sum()), (visible_b[\"No. clicks\"].sum()), (visible_c[\"No. clicks\"].sum()), (visible_d[\"No. clicks\"].sum())]\n",
    "# total_clicks"
   ]
  },
  {
   "cell_type": "code",
   "execution_count": 108,
   "metadata": {},
   "outputs": [
    {
     "data": {
      "text/plain": [
       "[512, 281, 527, 193]"
      ]
     },
     "execution_count": 108,
     "metadata": {},
     "output_type": "execute_result"
    }
   ],
   "source": [
    "#creating a list of clicks on the test versions  \n",
    "test_clicks = [(version_a[\"No. clicks\"][version_a[\"Name\"] == \"SHOP NOW\"].sum()), (version_b[\"No. clicks\"][version_b[\"Name\"] == \"SHOP NOW\"].sum()), (version_c[\"No. clicks\"][version_c[\"Name\"] == \"SEE DEALS\"].sum()), (version_d[\"No. clicks\"][version_d[\"Name\"] == \"SEE DEALS\"].sum())]\n",
    "test_clicks \n",
    "     "
   ]
  },
  {
   "cell_type": "code",
   "execution_count": 109,
   "metadata": {},
   "outputs": [
    {
     "data": {
      "text/plain": [
       "[24814, 24466, 24349, 25040]"
      ]
     },
     "execution_count": 109,
     "metadata": {},
     "output_type": "execute_result"
    }
   ],
   "source": [
    "#creating a list of no clicks on the test versions \n",
    "test_no_clicks =  []\n",
    "for item1, item2 in zip(total_visit, test_clicks):\n",
    "  item = item1 - item2\n",
    "  test_no_clicks.append(item)\n",
    "test_no_clicks"
   ]
  },
  {
   "cell_type": "code",
   "execution_count": 116,
   "metadata": {},
   "outputs": [
    {
     "data": {
      "text/html": [
       "<div>\n",
       "<style scoped>\n",
       "    .dataframe tbody tr th:only-of-type {\n",
       "        vertical-align: middle;\n",
       "    }\n",
       "\n",
       "    .dataframe tbody tr th {\n",
       "        vertical-align: top;\n",
       "    }\n",
       "\n",
       "    .dataframe thead th {\n",
       "        text-align: right;\n",
       "    }\n",
       "</style>\n",
       "<table border=\"1\" class=\"dataframe\">\n",
       "  <thead>\n",
       "    <tr style=\"text-align: right;\">\n",
       "      <th></th>\n",
       "      <th>A</th>\n",
       "      <th>B</th>\n",
       "      <th>C</th>\n",
       "      <th>D</th>\n",
       "    </tr>\n",
       "  </thead>\n",
       "  <tbody>\n",
       "    <tr>\n",
       "      <th>Click</th>\n",
       "      <td>512</td>\n",
       "      <td>281</td>\n",
       "      <td>527</td>\n",
       "      <td>193</td>\n",
       "    </tr>\n",
       "    <tr>\n",
       "      <th>Did not Click</th>\n",
       "      <td>24814</td>\n",
       "      <td>24466</td>\n",
       "      <td>24349</td>\n",
       "      <td>25040</td>\n",
       "    </tr>\n",
       "    <tr>\n",
       "      <th>Total Visits</th>\n",
       "      <td>25326</td>\n",
       "      <td>24747</td>\n",
       "      <td>24876</td>\n",
       "      <td>25233</td>\n",
       "    </tr>\n",
       "  </tbody>\n",
       "</table>\n",
       "</div>"
      ],
      "text/plain": [
       "                   A      B      C      D\n",
       "Click            512    281    527    193\n",
       "Did not Click  24814  24466  24349  25040\n",
       "Total Visits   25326  24747  24876  25233"
      ]
     },
     "execution_count": 116,
     "metadata": {},
     "output_type": "execute_result"
    }
   ],
   "source": [
    "#observed results\n",
    "test_no_clicks\n",
    "test_clicks \n",
    "\n",
    "# Display the data in the form of a contingency table\n",
    "observed = pd.DataFrame([test_clicks, test_no_clicks, total_visit],\n",
    "                           columns = [\"A\", \"B\", \"C\", \"D\"],\n",
    "                           index = [\"Click\", \"Did not Click\", \"Total Visits\"])\n",
    "observed"
   ]
  },
  {
   "cell_type": "code",
   "execution_count": 140,
   "metadata": {},
   "outputs": [
    {
     "data": {
      "text/html": [
       "<div>\n",
       "<style scoped>\n",
       "    .dataframe tbody tr th:only-of-type {\n",
       "        vertical-align: middle;\n",
       "    }\n",
       "\n",
       "    .dataframe tbody tr th {\n",
       "        vertical-align: top;\n",
       "    }\n",
       "\n",
       "    .dataframe thead th {\n",
       "        text-align: right;\n",
       "    }\n",
       "</style>\n",
       "<table border=\"1\" class=\"dataframe\">\n",
       "  <thead>\n",
       "    <tr style=\"text-align: right;\">\n",
       "      <th></th>\n",
       "      <th>A</th>\n",
       "      <th>B</th>\n",
       "      <th>C</th>\n",
       "      <th>D</th>\n",
       "    </tr>\n",
       "  </thead>\n",
       "  <tbody>\n",
       "    <tr>\n",
       "      <th>Click</th>\n",
       "      <td>512.000000</td>\n",
       "      <td>281.000000</td>\n",
       "      <td>527.000000</td>\n",
       "      <td>193.000000</td>\n",
       "    </tr>\n",
       "    <tr>\n",
       "      <th>Did not Click</th>\n",
       "      <td>24814.000000</td>\n",
       "      <td>24466.000000</td>\n",
       "      <td>24349.000000</td>\n",
       "      <td>25040.000000</td>\n",
       "    </tr>\n",
       "    <tr>\n",
       "      <th>Total Visits</th>\n",
       "      <td>25326.000000</td>\n",
       "      <td>24747.000000</td>\n",
       "      <td>24876.000000</td>\n",
       "      <td>25233.000000</td>\n",
       "    </tr>\n",
       "    <tr>\n",
       "      <th>Click Through Rate</th>\n",
       "      <td>0.020216</td>\n",
       "      <td>0.011355</td>\n",
       "      <td>0.021185</td>\n",
       "      <td>0.007649</td>\n",
       "    </tr>\n",
       "  </tbody>\n",
       "</table>\n",
       "</div>"
      ],
      "text/plain": [
       "                               A             B             C             D\n",
       "Click                 512.000000    281.000000    527.000000    193.000000\n",
       "Did not Click       24814.000000  24466.000000  24349.000000  25040.000000\n",
       "Total Visits        25326.000000  24747.000000  24876.000000  25233.000000\n",
       "Click Through Rate      0.020216      0.011355      0.021185      0.007649"
      ]
     },
     "execution_count": 140,
     "metadata": {},
     "output_type": "execute_result"
    }
   ],
   "source": [
    "#adding in click through rate \n",
    "observed.loc[\"Click Through Rate\"] = ((observed.loc['Click'] / observed.loc['Total Visits']))\n",
    "observed"
   ]
  },
  {
   "cell_type": "code",
   "execution_count": 129,
   "metadata": {},
   "outputs": [
    {
     "data": {
      "text/html": [
       "<div>\n",
       "<style scoped>\n",
       "    .dataframe tbody tr th:only-of-type {\n",
       "        vertical-align: middle;\n",
       "    }\n",
       "\n",
       "    .dataframe tbody tr th {\n",
       "        vertical-align: top;\n",
       "    }\n",
       "\n",
       "    .dataframe thead th {\n",
       "        text-align: right;\n",
       "    }\n",
       "</style>\n",
       "<table border=\"1\" class=\"dataframe\">\n",
       "  <thead>\n",
       "    <tr style=\"text-align: right;\">\n",
       "      <th></th>\n",
       "      <th>A</th>\n",
       "      <th>B</th>\n",
       "      <th>C</th>\n",
       "      <th>D</th>\n",
       "    </tr>\n",
       "  </thead>\n",
       "  <tbody>\n",
       "    <tr>\n",
       "      <th>Click</th>\n",
       "      <td>512</td>\n",
       "      <td>281</td>\n",
       "      <td>527</td>\n",
       "      <td>193</td>\n",
       "    </tr>\n",
       "    <tr>\n",
       "      <th>Did not Click</th>\n",
       "      <td>24814</td>\n",
       "      <td>24466</td>\n",
       "      <td>24349</td>\n",
       "      <td>25040</td>\n",
       "    </tr>\n",
       "  </tbody>\n",
       "</table>\n",
       "</div>"
      ],
      "text/plain": [
       "                   A      B      C      D\n",
       "Click            512    281    527    193\n",
       "Did not Click  24814  24466  24349  25040"
      ]
     },
     "execution_count": 129,
     "metadata": {},
     "output_type": "execute_result"
    }
   ],
   "source": [
    "# for the chi square test we need click, total click and total row and coluns\n",
    "observed_results = pd.DataFrame([test_clicks, test_no_clicks],\n",
    "                           columns = [\"A\", \"B\", \"C\", \"D\"],\n",
    "                           index = [\"Click\", \"Did not Click\"])\n",
    "\n",
    "# observed_2[\"Total\"] = observed_2.sum(axis=1)\n",
    "# observed_2.loc[\"Total\"] = observed_2.sum(axis=0)\n",
    "\n",
    "observed_results"
   ]
  },
  {
   "cell_type": "markdown",
   "metadata": {
    "id": "dW5D_LGDV5cv"
   },
   "source": [
    "## 4.&nbsp; Calculate the test result"
   ]
  },
  {
   "cell_type": "code",
   "execution_count": 130,
   "metadata": {},
   "outputs": [],
   "source": [
    "import pandas as pd\n",
    "import matplotlib.pyplot as plt\n",
    "from scipy.stats import chi2_contingency\n",
    "\n",
    "chisq, pvalue, df, expected = stats.chi2_contingency(observed_2)"
   ]
  },
  {
   "cell_type": "code",
   "execution_count": 131,
   "metadata": {},
   "outputs": [
    {
     "name": "stdout",
     "output_type": "stream",
     "text": [
      "chi square: 224.01877488058412, p value: 2.7161216607868712e-48, degree of freedom: 3\n"
     ]
    }
   ],
   "source": [
    "print(f\"chi square: {chisq}, p value: {pvalue}, degree of freedom: {df}\")"
   ]
  },
  {
   "cell_type": "code",
   "execution_count": 126,
   "metadata": {},
   "outputs": [],
   "source": [
    "critical_value = 7.815"
   ]
  },
  {
   "cell_type": "code",
   "execution_count": 127,
   "metadata": {},
   "outputs": [
    {
     "data": {
      "image/png": "[encoded data removed]",
      "text/plain": [
       "<Figure size 1200x600 with 1 Axes>"
      ]
     },
     "metadata": {},
     "output_type": "display_data"
    }
   ],
   "source": [
    "import numpy as np\n",
    "import matplotlib.pyplot as plt\n",
    "import scipy.stats as stats\n",
    "\n",
    "# Degrees of freedom and alpha level for the Chi-squared test\n",
    "df = 3 \n",
    "alpha = 0.05\n",
    "\n",
    "# Generate an array of x values to represent the Chi-squared distribution range\n",
    "xt = np.linspace(0, 200, 1000)\n",
    "\n",
    "# Calculate the Chi-squared distribution for the given df\n",
    "chi2_dist = stats.chi2.pdf(xt, df)\n",
    "\n",
    "# Plotting\n",
    "plt.figure(figsize=(12,6))\n",
    "\n",
    "# Plot the Chi-squared distribution\n",
    "plt.plot(xt, chi2_dist, label=\"Chi-squared distribution\")\n",
    "\n",
    "# Add a vertical line for the Chi-squared test statistic\n",
    "plt.vlines(chisqr, ymin=0, ymax=max(chi2_dist), color=\"red\", label=\"Chi-squared test statistic\")\n",
    "\n",
    "# Shade the region in the tails that is more extreme than the test statistic (p-value)\n",
    "plt.fill_between(xt, chi2_dist, where=(xt > chisqr), color=\"r\", alpha=0.5, label=\"p-value region\")\n",
    "\n",
    "# Add a vertical line for the critical value (alpha)\n",
    "plt.vlines(critical_value, ymin=0, ymax=max(chi2_dist), color=\"blue\", label=\"Critical value (alpha)\")\n",
    "\n",
    "# Shade the region under the curve that represents the critical region\n",
    "plt.fill_between(xt, chi2_dist, where=(xt > critical_value), color=\"b\", alpha=0.5, label=\"Critical region (alpha)\")\n",
    "\n",
    "# Add labels and title\n",
    "plt.title(\"Chi-squared Distribution with Test Statistic, p-value, and Critical Region\")\n",
    "plt.xlabel(\"Chi-squared Statistic\")\n",
    "plt.ylabel(\"Probability Density\")\n",
    "plt.legend()\n",
    "\n",
    "# Show the plot\n",
    "plt.show()\n"
   ]
  },
  {
   "cell_type": "markdown",
   "metadata": {
    "id": "oN2GiVAfV5cv"
   },
   "source": [
    "## 5.&nbsp; Interpret the test result"
   ]
  },
  {
   "cell_type": "code",
   "execution_count": 128,
   "metadata": {},
   "outputs": [
    {
     "name": "stdout",
     "output_type": "stream",
     "text": [
      "Reject the null hypothesis\n"
     ]
    }
   ],
   "source": [
    "if pvalue > alpha:\n",
    "  print(\"Do not reject the null hypothesis\")\n",
    "else:\n",
    "  print(\"Reject the null hypothesis\")"
   ]
  },
  {
   "cell_type": "markdown",
   "metadata": {
    "id": "UfJ8N0wjV5cv"
   },
   "source": [
    "## How do we decide who's the winner?"
   ]
  },
  {
   "cell_type": "markdown",
   "metadata": {},
   "source": [
    "This means that at least one of the four different versions performed significantly better or worse than the others.\n"
   ]
  },
  {
   "cell_type": "markdown",
   "metadata": {},
   "source": [
    "> ** Post hoc tests, also known as post hoc comparisons or pairwise comparisons, are statistical procedures used in conjunction with a Chi-Squared test to determine specific differences between groups or conditions after obtaining significant results from the Chi-Squared test. Once the Chi-Squared test reveals a significant difference among the variables being examined, post hoc tests are employed to identify which specific groups or categories are significantly different from each other.\n",
    "\n",
    "We have 6 possible dual tests to perform:\n",
    "* Version A - Version B\n",
    "* Version A - Version C\n",
    "* Version A - Version D\n",
    "* Version B - Version C\n",
    "* Version B - Version D\n",
    "* Version C - Version D\n",
    "\n",
    "The level of alpha we selected for the chi-squared test cannot be same for the dual tests. If there was an error of 5% in each of the tests, this would sum up to much more than the 5% total we set for alpha, so we will need to be much more restrictive in the dual tests. Therefore, we will split the value of alpha equally among the dual tests to be performed."
   ]
  },
  {
   "cell_type": "markdown",
   "metadata": {},
   "source": [
    "For \\( n = 4 \\) (versions A, B, C, D):\n",
    "\n",
    "$$\n",
    "\\binom{4}{2} = \\frac{4!}{2!(4-2)!} = \\frac{4 \\times 3}{2 \\times 1} = 6\n",
    "$$\n",
    "\n",
    "So, there are **6** possible pairwise comparisons.\n",
    "\n"
   ]
  },
  {
   "cell_type": "code",
   "execution_count": 138,
   "metadata": {},
   "outputs": [
    {
     "data": {
      "text/plain": [
       "0.008333333333333333"
      ]
     },
     "execution_count": 138,
     "metadata": {},
     "output_type": "execute_result"
    }
   ],
   "source": [
    "possible_combinations = 6\n",
    "alpha_post_hoc = alpha / possible_combinations\n",
    "alpha_post_hoc"
   ]
  },
  {
   "cell_type": "code",
   "execution_count": 155,
   "metadata": {},
   "outputs": [
    {
     "data": {
      "text/html": [
       "<div>\n",
       "<style scoped>\n",
       "    .dataframe tbody tr th:only-of-type {\n",
       "        vertical-align: middle;\n",
       "    }\n",
       "\n",
       "    .dataframe tbody tr th {\n",
       "        vertical-align: top;\n",
       "    }\n",
       "\n",
       "    .dataframe thead th {\n",
       "        text-align: right;\n",
       "    }\n",
       "</style>\n",
       "<table border=\"1\" class=\"dataframe\">\n",
       "  <thead>\n",
       "    <tr style=\"text-align: right;\">\n",
       "      <th></th>\n",
       "      <th>names</th>\n",
       "      <th>rates</th>\n",
       "    </tr>\n",
       "  </thead>\n",
       "  <tbody>\n",
       "    <tr>\n",
       "      <th>2</th>\n",
       "      <td>C</td>\n",
       "      <td>0.021185</td>\n",
       "    </tr>\n",
       "    <tr>\n",
       "      <th>0</th>\n",
       "      <td>A</td>\n",
       "      <td>0.020216</td>\n",
       "    </tr>\n",
       "    <tr>\n",
       "      <th>1</th>\n",
       "      <td>B</td>\n",
       "      <td>0.011355</td>\n",
       "    </tr>\n",
       "    <tr>\n",
       "      <th>3</th>\n",
       "      <td>D</td>\n",
       "      <td>0.007649</td>\n",
       "    </tr>\n",
       "  </tbody>\n",
       "</table>\n",
       "</div>"
      ],
      "text/plain": [
       "  names     rates\n",
       "2     C  0.021185\n",
       "0     A  0.020216\n",
       "1     B  0.011355\n",
       "3     D  0.007649"
      ]
     },
     "execution_count": 155,
     "metadata": {},
     "output_type": "execute_result"
    }
   ],
   "source": [
    "# using the observed data frame \n",
    "# take column names as names \n",
    "# and click through rates as rates\n",
    "\n",
    "names = observed.columns\n",
    "rates = observed.loc[\"Click Through Rate\"]\n",
    "\n",
    "# create new dataframe \n",
    "ctr_df = pd.DataFrame({\"names\" : names, \"rates\" : rates}).reset_index(drop=True)\n",
    "\n",
    "# sort by rates\n",
    "ctr_df.sort_values(by=\"rates\" ,ascending=False)"
   ]
  },
  {
   "cell_type": "code",
   "execution_count": 156,
   "metadata": {},
   "outputs": [
    {
     "data": {
      "text/html": [
       "<div>\n",
       "<style scoped>\n",
       "    .dataframe tbody tr th:only-of-type {\n",
       "        vertical-align: middle;\n",
       "    }\n",
       "\n",
       "    .dataframe tbody tr th {\n",
       "        vertical-align: top;\n",
       "    }\n",
       "\n",
       "    .dataframe thead th {\n",
       "        text-align: right;\n",
       "    }\n",
       "</style>\n",
       "<table border=\"1\" class=\"dataframe\">\n",
       "  <thead>\n",
       "    <tr style=\"text-align: right;\">\n",
       "      <th></th>\n",
       "      <th>A</th>\n",
       "      <th>B</th>\n",
       "      <th>C</th>\n",
       "      <th>D</th>\n",
       "    </tr>\n",
       "  </thead>\n",
       "  <tbody>\n",
       "    <tr>\n",
       "      <th>Click</th>\n",
       "      <td>512</td>\n",
       "      <td>281</td>\n",
       "      <td>527</td>\n",
       "      <td>193</td>\n",
       "    </tr>\n",
       "    <tr>\n",
       "      <th>Did not Click</th>\n",
       "      <td>24814</td>\n",
       "      <td>24466</td>\n",
       "      <td>24349</td>\n",
       "      <td>25040</td>\n",
       "    </tr>\n",
       "  </tbody>\n",
       "</table>\n",
       "</div>"
      ],
      "text/plain": [
       "                   A      B      C      D\n",
       "Click            512    281    527    193\n",
       "Did not Click  24814  24466  24349  25040"
      ]
     },
     "execution_count": 156,
     "metadata": {},
     "output_type": "execute_result"
    }
   ],
   "source": [
    "observed_results"
   ]
  },
  {
   "cell_type": "code",
   "execution_count": 163,
   "metadata": {},
   "outputs": [
    {
     "data": {
      "image/png": "[encoded data removed]",
      "text/plain": [
       "<Figure size 640x480 with 2 Axes>"
      ]
     },
     "metadata": {},
     "output_type": "display_data"
    }
   ],
   "source": [
    "#initiating an empty dictionary\n",
    "stat_significant_dict = { \"A\" : [],\n",
    "                          \"B\" : [],\n",
    "                          \"C\" : [],\n",
    "                          \"D\" : []\n",
    "                         }\n",
    "\n",
    "#compare each verison to another\n",
    "for col1 in observed_results.columns:\n",
    "    for col2 in observed_results.columns:\n",
    "        #find the p value of each pair\n",
    "        chisq, pvalue, df, expected = stats.chi2_contingency(observed_results.loc[:, [col1,col2]], correction=False)\n",
    "        #if the p-value is lower than alpha --> result is statisticslly significant\n",
    "        stat_significant_dict[col1].append(pvalue < alpha_post_hoc)\n",
    "\n",
    "# create a dataframe of these results\n",
    "stat_significant_df =pd.DataFrame(stat_significant_dict, index=observed_results.columns)\n",
    "\n",
    "# create a heatmap from the dataframe\n",
    "ax = sns.heatmap(stat_significant_df, cmap=\"coolwarm_r\")\n",
    "\n",
    "# Manually specify colorbar labelling after it's been generated\n",
    "colorbar = ax.collections[0].colorbar\n",
    "colorbar.set_ticks([0.25, 0.75])\n",
    "colorbar.set_ticklabels(['False', 'True'])\n",
    "\n",
    "# Add a title to the heatmap\n",
    "ax.set_title(\"Statistical Significance in Pairwise Tests: True or False?\", pad=10);"
   ]
  },
  {
   "cell_type": "code",
   "execution_count": 162,
   "metadata": {},
   "outputs": [
    {
     "data": {
      "text/html": [
       "<div>\n",
       "<style scoped>\n",
       "    .dataframe tbody tr th:only-of-type {\n",
       "        vertical-align: middle;\n",
       "    }\n",
       "\n",
       "    .dataframe tbody tr th {\n",
       "        vertical-align: top;\n",
       "    }\n",
       "\n",
       "    .dataframe thead th {\n",
       "        text-align: right;\n",
       "    }\n",
       "</style>\n",
       "<table border=\"1\" class=\"dataframe\">\n",
       "  <thead>\n",
       "    <tr style=\"text-align: right;\">\n",
       "      <th></th>\n",
       "      <th>A</th>\n",
       "      <th>B</th>\n",
       "      <th>C</th>\n",
       "      <th>D</th>\n",
       "    </tr>\n",
       "  </thead>\n",
       "  <tbody>\n",
       "    <tr>\n",
       "      <th>A</th>\n",
       "      <td>False</td>\n",
       "      <td>True</td>\n",
       "      <td>False</td>\n",
       "      <td>True</td>\n",
       "    </tr>\n",
       "    <tr>\n",
       "      <th>B</th>\n",
       "      <td>True</td>\n",
       "      <td>False</td>\n",
       "      <td>True</td>\n",
       "      <td>True</td>\n",
       "    </tr>\n",
       "    <tr>\n",
       "      <th>C</th>\n",
       "      <td>False</td>\n",
       "      <td>True</td>\n",
       "      <td>False</td>\n",
       "      <td>True</td>\n",
       "    </tr>\n",
       "    <tr>\n",
       "      <th>D</th>\n",
       "      <td>True</td>\n",
       "      <td>True</td>\n",
       "      <td>True</td>\n",
       "      <td>False</td>\n",
       "    </tr>\n",
       "  </tbody>\n",
       "</table>\n",
       "</div>"
      ],
      "text/plain": [
       "       A      B      C      D\n",
       "A  False   True  False   True\n",
       "B   True  False   True   True\n",
       "C  False   True  False   True\n",
       "D   True   True   True  False"
      ]
     },
     "execution_count": 162,
     "metadata": {},
     "output_type": "execute_result"
    }
   ],
   "source": [
    "stat_significant_df"
   ]
  },
  {
   "cell_type": "markdown",
   "metadata": {},
   "source": [
    "Analysing our heatmap, it is evident that the version with the highest click-through rate, `Version_C`, exhibits a statistically significant difference when compared Versions B and D, but not to `Version_A`, which possesses the second-highest click-through rate. As a result, declaring a clear winner based on post hoc tests becomes challenging, therefore we can only say that both `Version_C` and `Version_A` are the winners.\n",
    "\n",
    "However, if a definitive winner is required, additional steps need to be implemented. This is where we transition from the realm of statistics to the business world. The following actions can help in determining the version to be featured on the website in the future:\n",
    " - Consider other metrics alongside click-through rate.\n",
    " - Incorporate qualitative research findings.\n",
    " - Seek input from subject-matter experts.\n",
    " - Redesign the experiment and conduct it once more."
   ]
  },
  {
   "cell_type": "code",
   "execution_count": null,
   "metadata": {},
   "outputs": [],
   "source": []
  }
 ],
 "metadata": {
  "colab": {
   "provenance": []
  },
  "kernelspec": {
   "display_name": "Python 3 (ipykernel)",
   "language": "python",
   "name": "python3"
  },
  "language_info": {
   "codemirror_mode": {
    "name": "ipython",
    "version": 3
   },
   "file_extension": ".py",
   "mimetype": "text/x-python",
   "name": "python",
   "nbconvert_exporter": "python",
   "pygments_lexer": "ipython3",
   "version": "3.12.3"
  }
 },
 "nbformat": 4,
 "nbformat_minor": 4
}
